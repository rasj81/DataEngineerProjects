{
 "cells": [
  {
   "cell_type": "code",
   "execution_count": 119,
   "id": "3c74d583-fe0f-443c-bb8b-be82503ce34c",
   "metadata": {},
   "outputs": [],
   "source": [
    "import pyspark"
   ]
  },
  {
   "cell_type": "code",
<<<<<<<<< Temporary merge branch 1
   "execution_count": 7,
=========
   "execution_count": 120,
>>>>>>>>> Temporary merge branch 2
   "id": "5b460833-245b-4461-9475-d4c5629297a4",
   "metadata": {},
   "outputs": [
    {
     "data": {
      "text/plain": [
       "'/usr/local/spark/python/pyspark/__init__.py'"
      ]
     },
<<<<<<<<< Temporary merge branch 1
     "execution_count": 7,
=========
     "execution_count": 120,
>>>>>>>>> Temporary merge branch 2
     "metadata": {},
     "output_type": "execute_result"
    }
   ],
   "source": [
    "pyspark.__file__"
   ]
  },
  {
   "cell_type": "code",
<<<<<<<<< Temporary merge branch 1
   "execution_count": 8,
=========
   "execution_count": 121,
>>>>>>>>> Temporary merge branch 2
   "id": "91e2dd3a-fe9b-467c-a838-12930d07de9f",
   "metadata": {},
   "outputs": [],
   "source": [
    "from pyspark.sql import SparkSession"
   ]
  },
  {
   "cell_type": "code",
<<<<<<<<< Temporary merge branch 1
   "execution_count": 9,
=========
   "execution_count": 122,
>>>>>>>>> Temporary merge branch 2
   "id": "2515b362-fb3c-42a9-ad01-a485198a2d55",
   "metadata": {},
   "outputs": [],
   "source": [
    "spark = SparkSession.builder \\\n",
    "    .master(\"local[2]\") \\\n",
    "    .appName('test') \\\n",
    "    .getOrCreate()"
   ]
  },
  {
   "cell_type": "code",
<<<<<<<<< Temporary merge branch 1
   "execution_count": 10,
=========
   "execution_count": 123,
>>>>>>>>> Temporary merge branch 2
   "id": "f9e06636-1b5d-4cc2-8796-5065d7cc7ade",
   "metadata": {},
   "outputs": [
    {
     "data": {
      "text/plain": [
       "'3.5.0'"
      ]
     },
<<<<<<<<< Temporary merge branch 1
     "execution_count": 10,
=========
     "execution_count": 123,
>>>>>>>>> Temporary merge branch 2
     "metadata": {},
     "output_type": "execute_result"
    }
   ],
   "source": [
    "# Get Spark Version\n",
    "spark.version"
   ]
  },
  {
   "cell_type": "code",
<<<<<<<<< Temporary merge branch 1
   "execution_count": 11,
=========
   "execution_count": 124,
>>>>>>>>> Temporary merge branch 2
   "id": "fbf567fb-9c43-4238-a87e-50c287f3ed7c",
   "metadata": {},
   "outputs": [],
   "source": [
    "# Get Taxi Zone Lookup"
   ]
  },
  {
   "cell_type": "code",
   "execution_count": 12,
   "id": "b711dcfd-c1a4-42e0-84bc-c40f9d870840",
   "metadata": {},
   "outputs": [],
   "source": [
    "#!wget https://d37ci6vzurychx.cloudfront.net/misc/taxi_zone_lookup.csv"
   ]
  },
  {
   "cell_type": "code",
   "execution_count": 13,
   "id": "8c94e756-0042-4589-b628-d910f129cf64",
   "metadata": {},
   "outputs": [
    {
     "name": "stdout",
     "output_type": "stream",
     "text": [
      "\"LocationID\",\"Borough\",\"Zone\",\"service_zone\"\n",
      "1,\"EWR\",\"Newark Airport\",\"EWR\"\n",
      "2,\"Queens\",\"Jamaica Bay\",\"Boro Zone\"\n",
      "3,\"Bronx\",\"Allerton/Pelham Gardens\",\"Boro Zone\"\n",
      "4,\"Manhattan\",\"Alphabet City\",\"Yellow Zone\"\n",
      "5,\"Staten Island\",\"Arden Heights\",\"Boro Zone\"\n",
      "6,\"Staten Island\",\"Arrochar/Fort Wadsworth\",\"Boro Zone\"\n",
      "7,\"Queens\",\"Astoria\",\"Boro Zone\"\n",
      "8,\"Queens\",\"Astoria Park\",\"Boro Zone\"\n",
      "9,\"Queens\",\"Auburndale\",\"Boro Zone\"\n"
     ]
    }
   ],
   "source": [
    "!head taxi_zone_lookup.csv"
   ]
  },
  {
   "cell_type": "code",
<<<<<<<<< Temporary merge branch 1
   "execution_count": 14,
=========
   "execution_count": 125,
>>>>>>>>> Temporary merge branch 2
   "id": "c008e3cc-1076-418c-bdd1-ecd330217773",
   "metadata": {},
   "outputs": [],
   "source": [
    "df1 = spark.read.csv('taxi_zone_lookup.csv')"
   ]
  },
  {
   "cell_type": "code",
<<<<<<<<< Temporary merge branch 1
   "execution_count": 15,
=========
   "execution_count": 126,
>>>>>>>>> Temporary merge branch 2
   "id": "848668f2-39f3-400d-95e8-36cb90070226",
   "metadata": {},
   "outputs": [
    {
     "name": "stdout",
     "output_type": "stream",
     "text": [
      "+----------+-------------+--------------------+------------+\n",
      "|       _c0|          _c1|                 _c2|         _c3|\n",
      "+----------+-------------+--------------------+------------+\n",
      "|LocationID|      Borough|                Zone|service_zone|\n",
      "|         1|          EWR|      Newark Airport|         EWR|\n",
      "|         2|       Queens|         Jamaica Bay|   Boro Zone|\n",
      "|         3|        Bronx|Allerton/Pelham G...|   Boro Zone|\n",
      "|         4|    Manhattan|       Alphabet City| Yellow Zone|\n",
      "|         5|Staten Island|       Arden Heights|   Boro Zone|\n",
      "|         6|Staten Island|Arrochar/Fort Wad...|   Boro Zone|\n",
      "|         7|       Queens|             Astoria|   Boro Zone|\n",
      "|         8|       Queens|        Astoria Park|   Boro Zone|\n",
      "|         9|       Queens|          Auburndale|   Boro Zone|\n",
      "|        10|       Queens|        Baisley Park|   Boro Zone|\n",
      "|        11|     Brooklyn|          Bath Beach|   Boro Zone|\n",
      "|        12|    Manhattan|        Battery Park| Yellow Zone|\n",
      "|        13|    Manhattan|   Battery Park City| Yellow Zone|\n",
      "|        14|     Brooklyn|           Bay Ridge|   Boro Zone|\n",
      "|        15|       Queens|Bay Terrace/Fort ...|   Boro Zone|\n",
      "|        16|       Queens|             Bayside|   Boro Zone|\n",
      "|        17|     Brooklyn|             Bedford|   Boro Zone|\n",
      "|        18|        Bronx|        Bedford Park|   Boro Zone|\n",
      "|        19|       Queens|           Bellerose|   Boro Zone|\n",
      "+----------+-------------+--------------------+------------+\n",
      "only showing top 20 rows\n",
      "\n"
     ]
    }
   ],
   "source": [
    "df1.show()"
   ]
  },
  {
   "cell_type": "code",
<<<<<<<<< Temporary merge branch 1
   "execution_count": 16,
=========
   "execution_count": 127,
>>>>>>>>> Temporary merge branch 2
   "id": "fde285f8-69f3-4641-89f9-83162c363269",
   "metadata": {},
   "outputs": [],
   "source": [
    "df1 = spark.read \\\n",
    "    .option(\"header\", \"true\") \\\n",
    "    .csv('taxi_zone_lookup.csv')"
   ]
  },
  {
   "cell_type": "code",
<<<<<<<<< Temporary merge branch 1
   "execution_count": 17,
=========
   "execution_count": 128,
>>>>>>>>> Temporary merge branch 2
   "id": "b6be411f-99bd-4582-9690-c2c6cd8b50ef",
   "metadata": {},
   "outputs": [
    {
     "name": "stdout",
     "output_type": "stream",
     "text": [
      "+----------+-------------+--------------------+------------+\n",
      "|LocationID|      Borough|                Zone|service_zone|\n",
      "+----------+-------------+--------------------+------------+\n",
      "|         1|          EWR|      Newark Airport|         EWR|\n",
      "|         2|       Queens|         Jamaica Bay|   Boro Zone|\n",
      "|         3|        Bronx|Allerton/Pelham G...|   Boro Zone|\n",
      "|         4|    Manhattan|       Alphabet City| Yellow Zone|\n",
      "|         5|Staten Island|       Arden Heights|   Boro Zone|\n",
      "|         6|Staten Island|Arrochar/Fort Wad...|   Boro Zone|\n",
      "|         7|       Queens|             Astoria|   Boro Zone|\n",
      "|         8|       Queens|        Astoria Park|   Boro Zone|\n",
      "|         9|       Queens|          Auburndale|   Boro Zone|\n",
      "|        10|       Queens|        Baisley Park|   Boro Zone|\n",
      "|        11|     Brooklyn|          Bath Beach|   Boro Zone|\n",
      "|        12|    Manhattan|        Battery Park| Yellow Zone|\n",
      "|        13|    Manhattan|   Battery Park City| Yellow Zone|\n",
      "|        14|     Brooklyn|           Bay Ridge|   Boro Zone|\n",
      "|        15|       Queens|Bay Terrace/Fort ...|   Boro Zone|\n",
      "|        16|       Queens|             Bayside|   Boro Zone|\n",
      "|        17|     Brooklyn|             Bedford|   Boro Zone|\n",
      "|        18|        Bronx|        Bedford Park|   Boro Zone|\n",
      "|        19|       Queens|           Bellerose|   Boro Zone|\n",
      "|        20|        Bronx|             Belmont|   Boro Zone|\n",
      "+----------+-------------+--------------------+------------+\n",
      "only showing top 20 rows\n",
      "\n"
     ]
    }
   ],
   "source": [
    "df1.show()"
   ]
  },
  {
   "cell_type": "code",
   "execution_count": 18,
   "id": "3c765111-ff29-416b-8b91-bad3769a6dad",
   "metadata": {},
   "outputs": [],
   "source": [
    "#df1.write.parquet('zones')"
   ]
  },
  {
   "cell_type": "code",
   "execution_count": 19,
   "id": "36484331-7043-48d5-a242-cf2336111533",
   "metadata": {},
   "outputs": [
    {
     "name": "stdout",
     "output_type": "stream",
     "text": [
      "dlt-dataload.ipynb   head.csv\t\t\ttaxi_zone_lookup.csv\n",
      "dlt-ETL-Copy1.ipynb  Module5.ipynb\t\tyellow_tripdata_2024-10.parquet\n",
      "dlt-ETL.ipynb\t     partition_yellow_tripdata\tzones\n"
     ]
    }
   ],
   "source": [
    "!ls"
   ]
  },
  {
   "cell_type": "code",
   "execution_count": 20,
   "id": "a87c70c9-96b8-423c-b3ed-a511443a14b2",
   "metadata": {},
   "outputs": [],
   "source": [
    "# Get Yellow Trip Data"
   ]
  },
  {
   "cell_type": "code",
   "execution_count": 21,
   "id": "81b88e51-2d23-435a-89d7-1b801bb1f85e",
   "metadata": {},
   "outputs": [],
   "source": [
    "#!wget https://d37ci6vzurychx.cloudfront.net/trip-data/yellow_tripdata_2024-10.parquet"
   ]
  },
  {
   "cell_type": "code",
<<<<<<<<< Temporary merge branch 1
   "execution_count": 22,
=========
   "execution_count": 129,
>>>>>>>>> Temporary merge branch 2
   "id": "613b9b92-5a71-4c9c-a0ef-641037202766",
   "metadata": {},
   "outputs": [],
   "source": [
    "df2 = spark.read \\\n",
    "    .option(\"header\", \"true\") \\\n",
    "    .parquet('yellow_tripdata_2024-10.parquet')"
   ]
  },
  {
   "cell_type": "code",
<<<<<<<<< Temporary merge branch 1
   "execution_count": 23,
=========
   "execution_count": 130,
>>>>>>>>> Temporary merge branch 2
   "id": "5bca4c47-1bae-4127-97fe-50cad5bfdeab",
   "metadata": {},
   "outputs": [
    {
     "name": "stdout",
     "output_type": "stream",
     "text": [
      "+--------+--------------------+---------------------+---------------+-------------+----------+------------------+------------+------------+------------+-----------+-----+-------+----------+------------+---------------------+------------+--------------------+-----------+\n",
      "|VendorID|tpep_pickup_datetime|tpep_dropoff_datetime|passenger_count|trip_distance|RatecodeID|store_and_fwd_flag|PULocationID|DOLocationID|payment_type|fare_amount|extra|mta_tax|tip_amount|tolls_amount|improvement_surcharge|total_amount|congestion_surcharge|Airport_fee|\n",
      "+--------+--------------------+---------------------+---------------+-------------+----------+------------------+------------+------------+------------+-----------+-----+-------+----------+------------+---------------------+------------+--------------------+-----------+\n",
      "|       2| 2024-10-01 00:30:44|  2024-10-01 00:48:26|              1|          3.0|         1|                 N|         162|         246|           1|       18.4|  1.0|    0.5|       1.5|         0.0|                  1.0|        24.9|                 2.5|        0.0|\n",
      "|       1| 2024-10-01 00:12:20|  2024-10-01 00:25:25|              1|          2.2|         1|                 N|          48|         236|           1|       14.2|  3.5|    0.5|       3.8|         0.0|                  1.0|        23.0|                 2.5|        0.0|\n",
      "|       1| 2024-10-01 00:04:46|  2024-10-01 00:13:52|              1|          2.7|         1|                 N|         142|          24|           1|       13.5|  3.5|    0.5|       3.7|         0.0|                  1.0|        22.2|                 2.5|        0.0|\n",
      "|       1| 2024-10-01 00:12:10|  2024-10-01 00:23:01|              1|          3.1|         1|                 N|         233|          75|           1|       14.2|  3.5|    0.5|       2.0|         0.0|                  1.0|        21.2|                 2.5|        0.0|\n",
      "|       1| 2024-10-01 00:30:22|  2024-10-01 00:30:39|              1|          0.0|         1|                 N|         262|         262|           3|        3.0|  3.5|    0.5|       0.0|         0.0|                  1.0|         8.0|                 2.5|        0.0|\n",
      "|       2| 2024-10-01 00:31:20|  2024-10-01 00:36:00|              2|         0.97|         1|                 N|         137|         137|           1|        7.2|  1.0|    0.5|      2.44|         0.0|                  1.0|       14.64|                 2.5|        0.0|\n",
      "|       1| 2024-10-01 00:42:57|  2024-10-01 00:49:01|              1|          1.3|         1|                 N|         142|          48|           1|        7.9|  3.5|    0.5|      2.55|         0.0|                  1.0|       15.45|                 2.5|        0.0|\n",
      "|       1| 2024-10-01 00:59:55|  2024-10-01 01:02:24|              1|          0.5|         1|                 N|         230|         161|           1|        5.1|  3.5|    0.5|       2.0|         0.0|                  1.0|        12.1|                 2.5|        0.0|\n",
      "|       1| 2024-10-01 00:00:47|  2024-10-01 00:04:22|              0|          1.1|         1|                 N|         142|         237|           1|        7.2|  3.5|    0.5|       3.0|         0.0|                  1.0|        15.2|                 2.5|        0.0|\n",
      "|       1| 2024-10-01 00:17:36|  2024-10-01 00:26:22|              1|          2.2|         1|                 N|         162|         145|           1|       11.4|  3.5|    0.5|       3.3|         0.0|                  1.0|        19.7|                 2.5|        0.0|\n",
      "|       1| 2024-10-01 00:49:00|  2024-10-01 00:52:20|              1|          0.6|         1|                 N|         229|         162|           1|        5.1|  3.5|    0.5|       2.0|         0.0|                  1.0|        12.1|                 2.5|        0.0|\n",
      "|       2| 2024-10-01 00:07:26|  2024-10-01 00:13:20|              1|          0.9|         1|                 N|         162|         162|           1|        7.9|  1.0|    0.5|      3.87|         0.0|                  1.0|       16.77|                 2.5|        0.0|\n",
      "|       2| 2024-10-01 00:17:11|  2024-10-01 00:25:00|              1|         1.33|         1|                 N|         162|         230|           1|        9.3|  1.0|    0.5|       2.0|         0.0|                  1.0|        16.3|                 2.5|        0.0|\n",
      "|       2| 2024-10-01 00:00:34|  2024-10-01 00:05:13|              1|         1.79|         1|                 N|         211|         234|           1|        9.3|  1.0|    0.5|      2.86|         0.0|                  1.0|       17.16|                 2.5|        0.0|\n",
      "|       2| 2024-09-30 23:58:40|  2024-10-01 00:20:26|              1|         5.16|         1|                 N|         142|           7|           1|       24.7|  1.0|    0.5|       0.0|         0.0|                  1.0|        29.7|                 2.5|        0.0|\n",
      "|       1| 2024-10-01 00:55:29|  2024-10-01 01:42:35|              1|         11.3|        99|                 N|         161|         197|           1|       39.5|  0.0|    0.5|       0.0|        6.94|                  1.0|       47.94|                 0.0|        0.0|\n",
      "|       1| 2024-10-01 00:08:59|  2024-10-01 00:40:58|              1|         20.6|         1|                 N|         132|         243|           2|       76.5| 2.75|    0.5|       0.0|        6.94|                  1.0|       87.69|                 0.0|       1.75|\n",
      "|       2| 2024-10-01 00:18:38|  2024-10-01 00:36:47|              2|         7.42|         1|                 N|         239|         247|           4|      -33.1| -1.0|   -0.5|       0.0|         0.0|                 -1.0|       -38.1|                -2.5|        0.0|\n",
      "|       2| 2024-10-01 00:18:38|  2024-10-01 00:36:47|              2|         7.42|         1|                 N|         239|         247|           4|       33.1|  1.0|    0.5|       0.0|         0.0|                  1.0|        38.1|                 2.5|        0.0|\n",
      "|       2| 2024-10-01 00:39:33|  2024-10-01 00:53:59|              1|         4.49|         1|                 N|         247|          60|           2|       21.9|  1.0|    0.5|       0.0|         0.0|                  1.0|        24.4|                 0.0|        0.0|\n",
      "+--------+--------------------+---------------------+---------------+-------------+----------+------------------+------------+------------+------------+-----------+-----+-------+----------+------------+---------------------+------------+--------------------+-----------+\n",
      "only showing top 20 rows\n",
      "\n"
     ]
    }
   ],
   "source": [
    "df2.show()"
   ]
  },
  {
   "cell_type": "code",
   "execution_count": 24,
   "id": "bef313c5-c1ae-44e9-bd93-3f10249969a2",
   "metadata": {},
   "outputs": [],
   "source": [
    "# Create Custom Schema"
   ]
  },
  {
   "cell_type": "code",
<<<<<<<<< Temporary merge branch 1
   "execution_count": 25,
=========
   "execution_count": 131,
>>>>>>>>> Temporary merge branch 2
   "id": "871c7ceb-8b84-4677-9a6e-e6c77fa6da2d",
   "metadata": {},
   "outputs": [],
   "source": [
    "import pandas as pd"
   ]
  },
  {
   "cell_type": "code",
<<<<<<<<< Temporary merge branch 1
   "execution_count": 26,
=========
   "execution_count": 132,
>>>>>>>>> Temporary merge branch 2
   "id": "0824edb8-56c0-4b25-b21b-90a5c5bbad14",
   "metadata": {},
   "outputs": [
    {
     "data": {
      "text/plain": [
       "StructType([StructField('VendorID', IntegerType(), True), StructField('tpep_pickup_datetime', TimestampNTZType(), True), StructField('tpep_dropoff_datetime', TimestampNTZType(), True), StructField('passenger_count', LongType(), True), StructField('trip_distance', DoubleType(), True), StructField('RatecodeID', LongType(), True), StructField('store_and_fwd_flag', StringType(), True), StructField('PULocationID', IntegerType(), True), StructField('DOLocationID', IntegerType(), True), StructField('payment_type', LongType(), True), StructField('fare_amount', DoubleType(), True), StructField('extra', DoubleType(), True), StructField('mta_tax', DoubleType(), True), StructField('tip_amount', DoubleType(), True), StructField('tolls_amount', DoubleType(), True), StructField('improvement_surcharge', DoubleType(), True), StructField('total_amount', DoubleType(), True), StructField('congestion_surcharge', DoubleType(), True), StructField('Airport_fee', DoubleType(), True)])"
      ]
     },
<<<<<<<<< Temporary merge branch 1
     "execution_count": 26,
=========
     "execution_count": 132,
>>>>>>>>> Temporary merge branch 2
     "metadata": {},
     "output_type": "execute_result"
    }
   ],
   "source": [
    "df2.schema"
   ]
  },
  {
   "cell_type": "code",
   "execution_count": 133,
   "id": "c2884405-9875-4c6d-9f50-17b700d839c2",
   "metadata": {},
   "outputs": [],
   "source": [
    "from pyspark.sql import types"
   ]
  },
  {
   "cell_type": "code",
<<<<<<<<< Temporary merge branch 1
   "execution_count": 28,
=========
   "execution_count": 134,
>>>>>>>>> Temporary merge branch 2
   "id": "bd60e7fe-92f1-4e86-a71f-b023aebd66ec",
   "metadata": {},
   "outputs": [],
   "source": [
    "schema = types.StructType([\n",
    "    types.StructField('VendorID', types.IntegerType(), True), \n",
    "    types.StructField('tpep_pickup_datetime', types.TimestampNTZType(), True), \n",
    "    types.StructField('tpep_dropoff_datetime', types.TimestampNTZType(), True), \n",
    "    types.StructField('passenger_count', types.LongType(), True), \n",
    "    types.StructField('trip_distance', types.DoubleType(), True), \n",
    "    types.StructField('RatecodeID', types.LongType(), True), \n",
    "    types.StructField('store_and_fwd_flag', types.StringType(), True), \n",
    "    types.StructField('PULocationID', types.IntegerType(), True), \n",
    "    types.StructField('DOLocationID', types.IntegerType(), True), \n",
    "    types.StructField('payment_type', types.LongType(), True), \n",
    "    types.StructField('fare_amount', types.DoubleType(), True), \n",
    "    types.StructField('extra', types.DoubleType(), True), \n",
    "    types.StructField('mta_tax', types.DoubleType(), True), \n",
    "    types.StructField('tip_amount', types.DoubleType(), True), \n",
    "    types.StructField('tolls_amount', types.DoubleType(), True), \n",
    "    types.StructField('improvement_surcharge', types.DoubleType(), True), \n",
    "    types.StructField('total_amount', types.DoubleType(), True), \n",
    "    types.StructField('congestion_surcharge', types.DoubleType(), True), \n",
    "    types.StructField('Airport_fee', types.DoubleType(), True)\n",
    "])"
   ]
  },
  {
   "cell_type": "code",
<<<<<<<<< Temporary merge branch 1
   "execution_count": 29,
=========
   "execution_count": 135,
>>>>>>>>> Temporary merge branch 2
   "id": "decbffb0-e5cb-4668-b3ea-02f7cefb2792",
   "metadata": {},
   "outputs": [],
   "source": [
    "df2=spark.read \\\n",
    "    .option(\"header\", \"true\") \\\n",
    "    .schema(schema) \\\n",
    "    .parquet('yellow_tripdata_2024-10.parquet')"
   ]
  },
  {
   "cell_type": "code",
   "execution_count": 136,
   "id": "cb0bca35-770d-4fa9-ad64-35d3a921c50b",
   "metadata": {},
   "outputs": [
    {
     "data": {
      "text/plain": [
       "[Row(VendorID=2, tpep_pickup_datetime=datetime.datetime(2024, 10, 1, 0, 30, 44), tpep_dropoff_datetime=datetime.datetime(2024, 10, 1, 0, 48, 26), passenger_count=1, trip_distance=3.0, RatecodeID=1, store_and_fwd_flag='N', PULocationID=162, DOLocationID=246, payment_type=1, fare_amount=18.4, extra=1.0, mta_tax=0.5, tip_amount=1.5, tolls_amount=0.0, improvement_surcharge=1.0, total_amount=24.9, congestion_surcharge=2.5, Airport_fee=0.0),\n",
       " Row(VendorID=1, tpep_pickup_datetime=datetime.datetime(2024, 10, 1, 0, 12, 20), tpep_dropoff_datetime=datetime.datetime(2024, 10, 1, 0, 25, 25), passenger_count=1, trip_distance=2.2, RatecodeID=1, store_and_fwd_flag='N', PULocationID=48, DOLocationID=236, payment_type=1, fare_amount=14.2, extra=3.5, mta_tax=0.5, tip_amount=3.8, tolls_amount=0.0, improvement_surcharge=1.0, total_amount=23.0, congestion_surcharge=2.5, Airport_fee=0.0),\n",
       " Row(VendorID=1, tpep_pickup_datetime=datetime.datetime(2024, 10, 1, 0, 4, 46), tpep_dropoff_datetime=datetime.datetime(2024, 10, 1, 0, 13, 52), passenger_count=1, trip_distance=2.7, RatecodeID=1, store_and_fwd_flag='N', PULocationID=142, DOLocationID=24, payment_type=1, fare_amount=13.5, extra=3.5, mta_tax=0.5, tip_amount=3.7, tolls_amount=0.0, improvement_surcharge=1.0, total_amount=22.2, congestion_surcharge=2.5, Airport_fee=0.0),\n",
       " Row(VendorID=1, tpep_pickup_datetime=datetime.datetime(2024, 10, 1, 0, 12, 10), tpep_dropoff_datetime=datetime.datetime(2024, 10, 1, 0, 23, 1), passenger_count=1, trip_distance=3.1, RatecodeID=1, store_and_fwd_flag='N', PULocationID=233, DOLocationID=75, payment_type=1, fare_amount=14.2, extra=3.5, mta_tax=0.5, tip_amount=2.0, tolls_amount=0.0, improvement_surcharge=1.0, total_amount=21.2, congestion_surcharge=2.5, Airport_fee=0.0),\n",
       " Row(VendorID=1, tpep_pickup_datetime=datetime.datetime(2024, 10, 1, 0, 30, 22), tpep_dropoff_datetime=datetime.datetime(2024, 10, 1, 0, 30, 39), passenger_count=1, trip_distance=0.0, RatecodeID=1, store_and_fwd_flag='N', PULocationID=262, DOLocationID=262, payment_type=3, fare_amount=3.0, extra=3.5, mta_tax=0.5, tip_amount=0.0, tolls_amount=0.0, improvement_surcharge=1.0, total_amount=8.0, congestion_surcharge=2.5, Airport_fee=0.0),\n",
       " Row(VendorID=2, tpep_pickup_datetime=datetime.datetime(2024, 10, 1, 0, 31, 20), tpep_dropoff_datetime=datetime.datetime(2024, 10, 1, 0, 36), passenger_count=2, trip_distance=0.97, RatecodeID=1, store_and_fwd_flag='N', PULocationID=137, DOLocationID=137, payment_type=1, fare_amount=7.2, extra=1.0, mta_tax=0.5, tip_amount=2.44, tolls_amount=0.0, improvement_surcharge=1.0, total_amount=14.64, congestion_surcharge=2.5, Airport_fee=0.0),\n",
       " Row(VendorID=1, tpep_pickup_datetime=datetime.datetime(2024, 10, 1, 0, 42, 57), tpep_dropoff_datetime=datetime.datetime(2024, 10, 1, 0, 49, 1), passenger_count=1, trip_distance=1.3, RatecodeID=1, store_and_fwd_flag='N', PULocationID=142, DOLocationID=48, payment_type=1, fare_amount=7.9, extra=3.5, mta_tax=0.5, tip_amount=2.55, tolls_amount=0.0, improvement_surcharge=1.0, total_amount=15.45, congestion_surcharge=2.5, Airport_fee=0.0),\n",
       " Row(VendorID=1, tpep_pickup_datetime=datetime.datetime(2024, 10, 1, 0, 59, 55), tpep_dropoff_datetime=datetime.datetime(2024, 10, 1, 1, 2, 24), passenger_count=1, trip_distance=0.5, RatecodeID=1, store_and_fwd_flag='N', PULocationID=230, DOLocationID=161, payment_type=1, fare_amount=5.1, extra=3.5, mta_tax=0.5, tip_amount=2.0, tolls_amount=0.0, improvement_surcharge=1.0, total_amount=12.1, congestion_surcharge=2.5, Airport_fee=0.0),\n",
       " Row(VendorID=1, tpep_pickup_datetime=datetime.datetime(2024, 10, 1, 0, 0, 47), tpep_dropoff_datetime=datetime.datetime(2024, 10, 1, 0, 4, 22), passenger_count=0, trip_distance=1.1, RatecodeID=1, store_and_fwd_flag='N', PULocationID=142, DOLocationID=237, payment_type=1, fare_amount=7.2, extra=3.5, mta_tax=0.5, tip_amount=3.0, tolls_amount=0.0, improvement_surcharge=1.0, total_amount=15.2, congestion_surcharge=2.5, Airport_fee=0.0),\n",
       " Row(VendorID=1, tpep_pickup_datetime=datetime.datetime(2024, 10, 1, 0, 17, 36), tpep_dropoff_datetime=datetime.datetime(2024, 10, 1, 0, 26, 22), passenger_count=1, trip_distance=2.2, RatecodeID=1, store_and_fwd_flag='N', PULocationID=162, DOLocationID=145, payment_type=1, fare_amount=11.4, extra=3.5, mta_tax=0.5, tip_amount=3.3, tolls_amount=0.0, improvement_surcharge=1.0, total_amount=19.7, congestion_surcharge=2.5, Airport_fee=0.0)]"
      ]
     },
     "execution_count": 136,
     "metadata": {},
     "output_type": "execute_result"
    }
   ],
   "source": [
    "df2.head(10)"
   ]
  },
  {
   "cell_type": "code",
   "execution_count": null,
   "id": "204cb342-b95a-426e-8321-84d5cdfda6eb",
   "metadata": {},
   "outputs": [],
   "source": [
    "# Question 2\n",
    "# Create Partition"
   ]
  },
  {
   "cell_type": "code",
   "execution_count": 33,
   "id": "f0c93e8b-48b8-4f59-9b7c-8560654efc8f",
   "metadata": {},
   "outputs": [],
   "source": [
    "#df2 = df2.repartition(4)"
   ]
  },
  {
   "cell_type": "code",
   "execution_count": 35,
   "id": "6c20ea5d-0d18-48e7-8835-27c175a4bba9",
   "metadata": {},
   "outputs": [],
   "source": [
    "# Write Partitioned data frame to directory specified below\n",
    "df.write.parquet('partition_yellow_tripdata')"
   ]
  },
  {
   "cell_type": "code",
   "execution_count": null,
   "id": "b9bda6ba-83dd-4c46-a7ea-dfe7770da8e6",
   "metadata": {},
   "outputs": [],
   "source": [
    "# More Data Manipulation"
   ]
  },
  {
   "cell_type": "code",
   "execution_count": 137,
   "id": "33366997-4011-4d75-9e41-2a350457a6d7",
   "metadata": {},
   "outputs": [
    {
     "name": "stdout",
     "output_type": "stream",
     "text": [
      "root\n",
      " |-- LocationID: string (nullable = true)\n",
      " |-- Borough: string (nullable = true)\n",
      " |-- Zone: string (nullable = true)\n",
      " |-- service_zone: string (nullable = true)\n",
      "\n",
      "root\n",
      " |-- VendorID: integer (nullable = true)\n",
      " |-- tpep_pickup_datetime: timestamp_ntz (nullable = true)\n",
      " |-- tpep_dropoff_datetime: timestamp_ntz (nullable = true)\n",
      " |-- passenger_count: long (nullable = true)\n",
      " |-- trip_distance: double (nullable = true)\n",
      " |-- RatecodeID: long (nullable = true)\n",
      " |-- store_and_fwd_flag: string (nullable = true)\n",
      " |-- PULocationID: integer (nullable = true)\n",
      " |-- DOLocationID: integer (nullable = true)\n",
      " |-- payment_type: long (nullable = true)\n",
      " |-- fare_amount: double (nullable = true)\n",
      " |-- extra: double (nullable = true)\n",
      " |-- mta_tax: double (nullable = true)\n",
      " |-- tip_amount: double (nullable = true)\n",
      " |-- tolls_amount: double (nullable = true)\n",
      " |-- improvement_surcharge: double (nullable = true)\n",
      " |-- total_amount: double (nullable = true)\n",
      " |-- congestion_surcharge: double (nullable = true)\n",
      " |-- Airport_fee: double (nullable = true)\n",
      "\n"
     ]
    }
   ],
   "source": [
    "# A nicer way to show the schema\n",
    "df1.printSchema()\n",
    "df2.printSchema()"
   ]
  },
  {
   "cell_type": "code",
   "execution_count": 154,
   "id": "3eda0ba8-da3f-4979-b7c2-81f6f82e6aec",
   "metadata": {},
   "outputs": [
    {
     "name": "stdout",
     "output_type": "stream",
     "text": [
      "+--------------------+---------------------+------------+------------+\n",
      "|tpep_pickup_datetime|tpep_dropoff_datetime|PULocationID|DOLocationID|\n",
      "+--------------------+---------------------+------------+------------+\n",
      "| 2024-10-01 00:30:44|  2024-10-01 00:48:26|         162|         246|\n",
      "| 2024-10-01 00:12:20|  2024-10-01 00:25:25|          48|         236|\n",
      "| 2024-10-01 00:04:46|  2024-10-01 00:13:52|         142|          24|\n",
      "| 2024-10-01 00:12:10|  2024-10-01 00:23:01|         233|          75|\n",
      "| 2024-10-01 00:30:22|  2024-10-01 00:30:39|         262|         262|\n",
      "| 2024-10-01 00:42:57|  2024-10-01 00:49:01|         142|          48|\n",
      "| 2024-10-01 00:59:55|  2024-10-01 01:02:24|         230|         161|\n",
      "| 2024-10-01 00:17:36|  2024-10-01 00:26:22|         162|         145|\n",
      "| 2024-10-01 00:49:00|  2024-10-01 00:52:20|         229|         162|\n",
      "| 2024-10-01 00:07:26|  2024-10-01 00:13:20|         162|         162|\n",
      "| 2024-10-01 00:17:11|  2024-10-01 00:25:00|         162|         230|\n",
      "| 2024-10-01 00:00:34|  2024-10-01 00:05:13|         211|         234|\n",
      "| 2024-09-30 23:58:40|  2024-10-01 00:20:26|         142|           7|\n",
      "| 2024-10-01 00:55:29|  2024-10-01 01:42:35|         161|         197|\n",
      "| 2024-10-01 00:08:59|  2024-10-01 00:40:58|         132|         243|\n",
      "| 2024-10-01 00:39:33|  2024-10-01 00:53:59|         247|          60|\n",
      "| 2024-10-01 00:24:14|  2024-10-01 00:35:48|         234|         231|\n",
      "| 2024-10-01 01:00:05|  2024-10-01 01:11:18|         233|          74|\n",
      "| 2024-10-01 00:32:23|  2024-10-01 00:42:38|         262|         236|\n",
      "| 2024-10-01 00:29:02|  2024-10-01 00:39:09|         263|         238|\n",
      "+--------------------+---------------------+------------+------------+\n",
      "only showing top 20 rows\n",
      "\n"
     ]
    }
   ],
   "source": [
    "df2.select('tpep_pickup_datetime', 'tpep_dropoff_datetime', 'PULocationID', 'DOLocationID') \\\n",
<<<<<<<<< Temporary merge branch 1
    "    .filter(df.passenger_count == 1) \\\n",
=========
    "    .filter(df2.passenger_count == 1) \\\n",
    "    .show()"
   ]
  },
  {
   "cell_type": "code",
   "execution_count": 163,
   "id": "a739bd16-3f60-46a8-894f-d36028d8ee09",
   "metadata": {},
   "outputs": [],
   "source": [
    "from pyspark.sql import functions as F"
   ]
  },
  {
   "cell_type": "code",
   "execution_count": 187,
   "id": "b5a25261-5109-4543-bd3d-a00fff2f5c22",
   "metadata": {},
   "outputs": [
    {
     "name": "stdout",
     "output_type": "stream",
     "text": [
      "+--------------------+---------------------+------------+------------+\n",
      "|tpep_pickup_datetime|tpep_dropoff_datetime|PULocationID|DOLocationID|\n",
      "+--------------------+---------------------+------------+------------+\n",
      "| 2024-10-15 07:31:31|  2024-10-15 07:40:59|          90|         231|\n",
      "| 2024-10-15 07:52:44|  2024-10-15 08:04:09|         164|         170|\n",
      "| 2024-10-15 12:54:48|  2024-10-15 13:49:24|         229|         216|\n",
      "| 2024-10-15 14:58:31|  2024-10-15 15:56:27|         132|          75|\n",
      "| 2024-10-15 15:25:10|  2024-10-15 16:10:52|         138|         230|\n",
      "| 2024-10-15 16:20:05|  2024-10-15 16:36:27|          68|         239|\n",
      "| 2024-10-15 16:17:04|  2024-10-15 16:28:13|          75|         151|\n",
      "| 2024-10-15 16:38:27|  2024-10-15 16:42:05|         239|         239|\n",
      "| 2024-10-15 16:59:33|  2024-10-15 17:28:41|         142|         224|\n",
      "| 2024-10-15 17:43:55|  2024-10-15 18:19:53|         107|          43|\n",
      "| 2024-10-15 17:25:25|  2024-10-15 17:38:07|          13|         249|\n",
      "| 2024-10-15 17:47:49|  2024-10-15 18:26:58|         158|         238|\n",
      "| 2024-10-15 18:21:41|  2024-10-15 18:36:02|          43|         229|\n",
      "| 2024-10-15 18:42:21|  2024-10-15 18:59:54|         229|         142|\n",
      "| 2024-10-15 18:29:24|  2024-10-15 18:35:26|         151|         238|\n",
      "| 2024-10-15 19:18:02|  2024-10-15 19:21:58|         158|         249|\n",
      "| 2024-10-15 20:17:14|  2024-10-15 20:24:27|         141|         262|\n",
      "| 2024-10-15 20:35:25|  2024-10-15 20:46:09|         236|         229|\n",
      "| 2024-10-15 20:50:47|  2024-10-15 21:10:26|         162|         238|\n",
      "| 2024-10-15 21:13:32|  2024-10-15 21:19:02|         238|         239|\n",
      "+--------------------+---------------------+------------+------------+\n",
      "only showing top 20 rows\n",
      "\n"
     ]
    }
   ],
   "source": [
    "# Question 3\n",
    "df2.select('tpep_pickup_datetime', 'tpep_dropoff_datetime', 'PULocationID', 'DOLocationID') \\\n",
    "    .filter(F.to_date('tpep_pickup_datetime') == '2024-10-15') \\\n",
>>>>>>>>> Temporary merge branch 2
    "    .show()"
   ]
  },
  {
   "cell_type": "code",
   "execution_count": null,
   "id": "b897adfc-db64-44c4-932b-730031d26788",
   "metadata": {},
   "outputs": [],
   "source": [
    "####\n",
    "# Check question 3\n",
    "# Work on question 4 and 6"
   ]
  },
  {
   "cell_type": "code",
   "execution_count": null,
   "id": "f5659423-0877-485c-a02f-8bf4a087618e",
   "metadata": {},
   "outputs": [],
   "source": [
    "# Question 4\n",
    "df2.select('tpep_pickup_datetime', 'tpep_dropoff_datetime', 'PULocationID', 'DOLocationID') \\\n",
    "    .filter(F.to_date('tpep_pickup_datetime') == '2024-10-15') \\\n",
    "    .show()"
   ]
  },
  {
   "cell_type": "code",
   "execution_count": null,
   "id": "111ae593-e274-49af-9196-404573d55aa1",
   "metadata": {},
   "outputs": [],
   "source": [
    "# Question 6"
   ]
  }
 ],
 "metadata": {
  "kernelspec": {
   "display_name": "Python 3 (ipykernel)",
   "language": "python",
   "name": "python3"
  },
  "language_info": {
   "codemirror_mode": {
    "name": "ipython",
    "version": 3
   },
   "file_extension": ".py",
   "mimetype": "text/x-python",
   "name": "python",
   "nbconvert_exporter": "python",
   "pygments_lexer": "ipython3",
   "version": "3.11.6"
  }
 },
 "nbformat": 4,
 "nbformat_minor": 5
}
